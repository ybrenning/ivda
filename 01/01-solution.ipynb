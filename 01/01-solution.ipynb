{
 "cells": [
  {
   "cell_type": "code",
   "execution_count": 1,
   "id": "e007a56f-f69c-4897-8789-ad19b7cec3dc",
   "metadata": {},
   "outputs": [
    {
     "name": "stderr",
     "output_type": "stream",
     "text": [
      "/tmp/ipykernel_22897/1852238761.py:5: DtypeWarning: Columns (4) have mixed types. Specify dtype option on import or set low_memory=False.\n",
      "  df = pd.read_csv('data/Aufgabe-1.csv', on_bad_lines='skip')\n"
     ]
    }
   ],
   "source": [
    "import csv\n",
    "\n",
    "import pandas as pd\n",
    "\n",
    "df = pd.read_csv('data/Aufgabe-1.csv', on_bad_lines='skip')\n"
   ]
  },
  {
   "cell_type": "code",
   "execution_count": null,
   "id": "fe62e1ad-3148-46ea-8e6f-465f6c603dd9",
   "metadata": {},
   "outputs": [],
   "source": []
  },
  {
   "cell_type": "code",
   "execution_count": 7,
   "id": "c2935049-5063-4f59-9dad-7ea15a0c0230",
   "metadata": {},
   "outputs": [
    {
     "data": {
      "text/plain": [
       "(9022, 89)"
      ]
     },
     "execution_count": 7,
     "metadata": {},
     "output_type": "execute_result"
    }
   ],
   "source": [
    "df.shape"
   ]
  },
  {
   "cell_type": "code",
   "execution_count": 10,
   "id": "6e9e996b",
   "metadata": {},
   "outputs": [],
   "source": [
    "df.to_csv(\"Aufgabe-1_only_good_lines.csv\")"
   ]
  }
 ],
 "metadata": {
  "kernelspec": {
   "display_name": "Python 3 (ipykernel)",
   "language": "python",
   "name": "python3"
  },
  "language_info": {
   "codemirror_mode": {
    "name": "ipython",
    "version": 3
   },
   "file_extension": ".py",
   "mimetype": "text/x-python",
   "name": "python",
   "nbconvert_exporter": "python",
   "pygments_lexer": "ipython3",
   "version": "3.10.12"
  }
 },
 "nbformat": 4,
 "nbformat_minor": 5
}
